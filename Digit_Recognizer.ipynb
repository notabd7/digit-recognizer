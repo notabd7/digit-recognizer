{
  "nbformat": 4,
  "nbformat_minor": 0,
  "metadata": {
    "colab": {
      "provenance": [],
      "authorship_tag": "ABX9TyN0Q2sjb8zYvx/77jRFHPHn",
      "include_colab_link": true
    },
    "kernelspec": {
      "name": "python3",
      "display_name": "Python 3"
    },
    "language_info": {
      "name": "python"
    }
  },
  "cells": [
    {
      "cell_type": "markdown",
      "metadata": {
        "id": "view-in-github",
        "colab_type": "text"
      },
      "source": [
        "<a href=\"https://colab.research.google.com/github/notabd7/digit-recognizer/blob/main/Digit_Recognizer.ipynb\" target=\"_parent\"><img src=\"https://colab.research.google.com/assets/colab-badge.svg\" alt=\"Open In Colab\"/></a>"
      ]
    },
    {
      "cell_type": "code",
      "execution_count": 28,
      "metadata": {
        "id": "pD5xUTjV6Viu"
      },
      "outputs": [],
      "source": [
        "import numpy as np\n",
        "import pandas as pd\n",
        "from matplotlib import pyplot as plot"
      ]
    },
    {
      "cell_type": "code",
      "source": [
        "data = pd.read_csv('/content/train.csv')\n"
      ],
      "metadata": {
        "id": "YSBw3tZ283ZH"
      },
      "execution_count": 31,
      "outputs": []
    },
    {
      "cell_type": "code",
      "source": [
        "#load data\n",
        "data.head()"
      ],
      "metadata": {
        "colab": {
          "base_uri": "https://localhost:8080/",
          "height": 255
        },
        "id": "zgFP3PTy9AWb",
        "outputId": "dc761cb6-bc9d-4faf-9c45-fb58594a50e0"
      },
      "execution_count": 32,
      "outputs": [
        {
          "output_type": "execute_result",
          "data": {
            "text/plain": [
              "   label  pixel0  pixel1  pixel2  pixel3  pixel4  pixel5  pixel6  pixel7  \\\n",
              "0      1       0       0       0       0       0       0       0       0   \n",
              "1      0       0       0       0       0       0       0       0       0   \n",
              "2      1       0       0       0       0       0       0       0       0   \n",
              "3      4       0       0       0       0       0       0       0       0   \n",
              "4      0       0       0       0       0       0       0       0       0   \n",
              "\n",
              "   pixel8  ...  pixel774  pixel775  pixel776  pixel777  pixel778  pixel779  \\\n",
              "0       0  ...         0         0         0         0         0         0   \n",
              "1       0  ...         0         0         0         0         0         0   \n",
              "2       0  ...         0         0         0         0         0         0   \n",
              "3       0  ...         0         0         0         0         0         0   \n",
              "4       0  ...         0         0         0         0         0         0   \n",
              "\n",
              "   pixel780  pixel781  pixel782  pixel783  \n",
              "0         0         0         0         0  \n",
              "1         0         0         0         0  \n",
              "2         0         0         0         0  \n",
              "3         0         0         0         0  \n",
              "4         0         0         0         0  \n",
              "\n",
              "[5 rows x 785 columns]"
            ],
            "text/html": [
              "\n",
              "  <div id=\"df-7df2a7e7-b4b1-4e96-8ab8-e0dc67f987ee\" class=\"colab-df-container\">\n",
              "    <div>\n",
              "<style scoped>\n",
              "    .dataframe tbody tr th:only-of-type {\n",
              "        vertical-align: middle;\n",
              "    }\n",
              "\n",
              "    .dataframe tbody tr th {\n",
              "        vertical-align: top;\n",
              "    }\n",
              "\n",
              "    .dataframe thead th {\n",
              "        text-align: right;\n",
              "    }\n",
              "</style>\n",
              "<table border=\"1\" class=\"dataframe\">\n",
              "  <thead>\n",
              "    <tr style=\"text-align: right;\">\n",
              "      <th></th>\n",
              "      <th>label</th>\n",
              "      <th>pixel0</th>\n",
              "      <th>pixel1</th>\n",
              "      <th>pixel2</th>\n",
              "      <th>pixel3</th>\n",
              "      <th>pixel4</th>\n",
              "      <th>pixel5</th>\n",
              "      <th>pixel6</th>\n",
              "      <th>pixel7</th>\n",
              "      <th>pixel8</th>\n",
              "      <th>...</th>\n",
              "      <th>pixel774</th>\n",
              "      <th>pixel775</th>\n",
              "      <th>pixel776</th>\n",
              "      <th>pixel777</th>\n",
              "      <th>pixel778</th>\n",
              "      <th>pixel779</th>\n",
              "      <th>pixel780</th>\n",
              "      <th>pixel781</th>\n",
              "      <th>pixel782</th>\n",
              "      <th>pixel783</th>\n",
              "    </tr>\n",
              "  </thead>\n",
              "  <tbody>\n",
              "    <tr>\n",
              "      <th>0</th>\n",
              "      <td>1</td>\n",
              "      <td>0</td>\n",
              "      <td>0</td>\n",
              "      <td>0</td>\n",
              "      <td>0</td>\n",
              "      <td>0</td>\n",
              "      <td>0</td>\n",
              "      <td>0</td>\n",
              "      <td>0</td>\n",
              "      <td>0</td>\n",
              "      <td>...</td>\n",
              "      <td>0</td>\n",
              "      <td>0</td>\n",
              "      <td>0</td>\n",
              "      <td>0</td>\n",
              "      <td>0</td>\n",
              "      <td>0</td>\n",
              "      <td>0</td>\n",
              "      <td>0</td>\n",
              "      <td>0</td>\n",
              "      <td>0</td>\n",
              "    </tr>\n",
              "    <tr>\n",
              "      <th>1</th>\n",
              "      <td>0</td>\n",
              "      <td>0</td>\n",
              "      <td>0</td>\n",
              "      <td>0</td>\n",
              "      <td>0</td>\n",
              "      <td>0</td>\n",
              "      <td>0</td>\n",
              "      <td>0</td>\n",
              "      <td>0</td>\n",
              "      <td>0</td>\n",
              "      <td>...</td>\n",
              "      <td>0</td>\n",
              "      <td>0</td>\n",
              "      <td>0</td>\n",
              "      <td>0</td>\n",
              "      <td>0</td>\n",
              "      <td>0</td>\n",
              "      <td>0</td>\n",
              "      <td>0</td>\n",
              "      <td>0</td>\n",
              "      <td>0</td>\n",
              "    </tr>\n",
              "    <tr>\n",
              "      <th>2</th>\n",
              "      <td>1</td>\n",
              "      <td>0</td>\n",
              "      <td>0</td>\n",
              "      <td>0</td>\n",
              "      <td>0</td>\n",
              "      <td>0</td>\n",
              "      <td>0</td>\n",
              "      <td>0</td>\n",
              "      <td>0</td>\n",
              "      <td>0</td>\n",
              "      <td>...</td>\n",
              "      <td>0</td>\n",
              "      <td>0</td>\n",
              "      <td>0</td>\n",
              "      <td>0</td>\n",
              "      <td>0</td>\n",
              "      <td>0</td>\n",
              "      <td>0</td>\n",
              "      <td>0</td>\n",
              "      <td>0</td>\n",
              "      <td>0</td>\n",
              "    </tr>\n",
              "    <tr>\n",
              "      <th>3</th>\n",
              "      <td>4</td>\n",
              "      <td>0</td>\n",
              "      <td>0</td>\n",
              "      <td>0</td>\n",
              "      <td>0</td>\n",
              "      <td>0</td>\n",
              "      <td>0</td>\n",
              "      <td>0</td>\n",
              "      <td>0</td>\n",
              "      <td>0</td>\n",
              "      <td>...</td>\n",
              "      <td>0</td>\n",
              "      <td>0</td>\n",
              "      <td>0</td>\n",
              "      <td>0</td>\n",
              "      <td>0</td>\n",
              "      <td>0</td>\n",
              "      <td>0</td>\n",
              "      <td>0</td>\n",
              "      <td>0</td>\n",
              "      <td>0</td>\n",
              "    </tr>\n",
              "    <tr>\n",
              "      <th>4</th>\n",
              "      <td>0</td>\n",
              "      <td>0</td>\n",
              "      <td>0</td>\n",
              "      <td>0</td>\n",
              "      <td>0</td>\n",
              "      <td>0</td>\n",
              "      <td>0</td>\n",
              "      <td>0</td>\n",
              "      <td>0</td>\n",
              "      <td>0</td>\n",
              "      <td>...</td>\n",
              "      <td>0</td>\n",
              "      <td>0</td>\n",
              "      <td>0</td>\n",
              "      <td>0</td>\n",
              "      <td>0</td>\n",
              "      <td>0</td>\n",
              "      <td>0</td>\n",
              "      <td>0</td>\n",
              "      <td>0</td>\n",
              "      <td>0</td>\n",
              "    </tr>\n",
              "  </tbody>\n",
              "</table>\n",
              "<p>5 rows × 785 columns</p>\n",
              "</div>\n",
              "    <div class=\"colab-df-buttons\">\n",
              "\n",
              "  <div class=\"colab-df-container\">\n",
              "    <button class=\"colab-df-convert\" onclick=\"convertToInteractive('df-7df2a7e7-b4b1-4e96-8ab8-e0dc67f987ee')\"\n",
              "            title=\"Convert this dataframe to an interactive table.\"\n",
              "            style=\"display:none;\">\n",
              "\n",
              "  <svg xmlns=\"http://www.w3.org/2000/svg\" height=\"24px\" viewBox=\"0 -960 960 960\">\n",
              "    <path d=\"M120-120v-720h720v720H120Zm60-500h600v-160H180v160Zm220 220h160v-160H400v160Zm0 220h160v-160H400v160ZM180-400h160v-160H180v160Zm440 0h160v-160H620v160ZM180-180h160v-160H180v160Zm440 0h160v-160H620v160Z\"/>\n",
              "  </svg>\n",
              "    </button>\n",
              "\n",
              "  <style>\n",
              "    .colab-df-container {\n",
              "      display:flex;\n",
              "      gap: 12px;\n",
              "    }\n",
              "\n",
              "    .colab-df-convert {\n",
              "      background-color: #E8F0FE;\n",
              "      border: none;\n",
              "      border-radius: 50%;\n",
              "      cursor: pointer;\n",
              "      display: none;\n",
              "      fill: #1967D2;\n",
              "      height: 32px;\n",
              "      padding: 0 0 0 0;\n",
              "      width: 32px;\n",
              "    }\n",
              "\n",
              "    .colab-df-convert:hover {\n",
              "      background-color: #E2EBFA;\n",
              "      box-shadow: 0px 1px 2px rgba(60, 64, 67, 0.3), 0px 1px 3px 1px rgba(60, 64, 67, 0.15);\n",
              "      fill: #174EA6;\n",
              "    }\n",
              "\n",
              "    .colab-df-buttons div {\n",
              "      margin-bottom: 4px;\n",
              "    }\n",
              "\n",
              "    [theme=dark] .colab-df-convert {\n",
              "      background-color: #3B4455;\n",
              "      fill: #D2E3FC;\n",
              "    }\n",
              "\n",
              "    [theme=dark] .colab-df-convert:hover {\n",
              "      background-color: #434B5C;\n",
              "      box-shadow: 0px 1px 3px 1px rgba(0, 0, 0, 0.15);\n",
              "      filter: drop-shadow(0px 1px 2px rgba(0, 0, 0, 0.3));\n",
              "      fill: #FFFFFF;\n",
              "    }\n",
              "  </style>\n",
              "\n",
              "    <script>\n",
              "      const buttonEl =\n",
              "        document.querySelector('#df-7df2a7e7-b4b1-4e96-8ab8-e0dc67f987ee button.colab-df-convert');\n",
              "      buttonEl.style.display =\n",
              "        google.colab.kernel.accessAllowed ? 'block' : 'none';\n",
              "\n",
              "      async function convertToInteractive(key) {\n",
              "        const element = document.querySelector('#df-7df2a7e7-b4b1-4e96-8ab8-e0dc67f987ee');\n",
              "        const dataTable =\n",
              "          await google.colab.kernel.invokeFunction('convertToInteractive',\n",
              "                                                    [key], {});\n",
              "        if (!dataTable) return;\n",
              "\n",
              "        const docLinkHtml = 'Like what you see? Visit the ' +\n",
              "          '<a target=\"_blank\" href=https://colab.research.google.com/notebooks/data_table.ipynb>data table notebook</a>'\n",
              "          + ' to learn more about interactive tables.';\n",
              "        element.innerHTML = '';\n",
              "        dataTable['output_type'] = 'display_data';\n",
              "        await google.colab.output.renderOutput(dataTable, element);\n",
              "        const docLink = document.createElement('div');\n",
              "        docLink.innerHTML = docLinkHtml;\n",
              "        element.appendChild(docLink);\n",
              "      }\n",
              "    </script>\n",
              "  </div>\n",
              "\n",
              "\n",
              "<div id=\"df-ee02ea4f-bb6f-4e53-b68f-ab9bfea7fbe2\">\n",
              "  <button class=\"colab-df-quickchart\" onclick=\"quickchart('df-ee02ea4f-bb6f-4e53-b68f-ab9bfea7fbe2')\"\n",
              "            title=\"Suggest charts\"\n",
              "            style=\"display:none;\">\n",
              "\n",
              "<svg xmlns=\"http://www.w3.org/2000/svg\" height=\"24px\"viewBox=\"0 0 24 24\"\n",
              "     width=\"24px\">\n",
              "    <g>\n",
              "        <path d=\"M19 3H5c-1.1 0-2 .9-2 2v14c0 1.1.9 2 2 2h14c1.1 0 2-.9 2-2V5c0-1.1-.9-2-2-2zM9 17H7v-7h2v7zm4 0h-2V7h2v10zm4 0h-2v-4h2v4z\"/>\n",
              "    </g>\n",
              "</svg>\n",
              "  </button>\n",
              "\n",
              "<style>\n",
              "  .colab-df-quickchart {\n",
              "      --bg-color: #E8F0FE;\n",
              "      --fill-color: #1967D2;\n",
              "      --hover-bg-color: #E2EBFA;\n",
              "      --hover-fill-color: #174EA6;\n",
              "      --disabled-fill-color: #AAA;\n",
              "      --disabled-bg-color: #DDD;\n",
              "  }\n",
              "\n",
              "  [theme=dark] .colab-df-quickchart {\n",
              "      --bg-color: #3B4455;\n",
              "      --fill-color: #D2E3FC;\n",
              "      --hover-bg-color: #434B5C;\n",
              "      --hover-fill-color: #FFFFFF;\n",
              "      --disabled-bg-color: #3B4455;\n",
              "      --disabled-fill-color: #666;\n",
              "  }\n",
              "\n",
              "  .colab-df-quickchart {\n",
              "    background-color: var(--bg-color);\n",
              "    border: none;\n",
              "    border-radius: 50%;\n",
              "    cursor: pointer;\n",
              "    display: none;\n",
              "    fill: var(--fill-color);\n",
              "    height: 32px;\n",
              "    padding: 0;\n",
              "    width: 32px;\n",
              "  }\n",
              "\n",
              "  .colab-df-quickchart:hover {\n",
              "    background-color: var(--hover-bg-color);\n",
              "    box-shadow: 0 1px 2px rgba(60, 64, 67, 0.3), 0 1px 3px 1px rgba(60, 64, 67, 0.15);\n",
              "    fill: var(--button-hover-fill-color);\n",
              "  }\n",
              "\n",
              "  .colab-df-quickchart-complete:disabled,\n",
              "  .colab-df-quickchart-complete:disabled:hover {\n",
              "    background-color: var(--disabled-bg-color);\n",
              "    fill: var(--disabled-fill-color);\n",
              "    box-shadow: none;\n",
              "  }\n",
              "\n",
              "  .colab-df-spinner {\n",
              "    border: 2px solid var(--fill-color);\n",
              "    border-color: transparent;\n",
              "    border-bottom-color: var(--fill-color);\n",
              "    animation:\n",
              "      spin 1s steps(1) infinite;\n",
              "  }\n",
              "\n",
              "  @keyframes spin {\n",
              "    0% {\n",
              "      border-color: transparent;\n",
              "      border-bottom-color: var(--fill-color);\n",
              "      border-left-color: var(--fill-color);\n",
              "    }\n",
              "    20% {\n",
              "      border-color: transparent;\n",
              "      border-left-color: var(--fill-color);\n",
              "      border-top-color: var(--fill-color);\n",
              "    }\n",
              "    30% {\n",
              "      border-color: transparent;\n",
              "      border-left-color: var(--fill-color);\n",
              "      border-top-color: var(--fill-color);\n",
              "      border-right-color: var(--fill-color);\n",
              "    }\n",
              "    40% {\n",
              "      border-color: transparent;\n",
              "      border-right-color: var(--fill-color);\n",
              "      border-top-color: var(--fill-color);\n",
              "    }\n",
              "    60% {\n",
              "      border-color: transparent;\n",
              "      border-right-color: var(--fill-color);\n",
              "    }\n",
              "    80% {\n",
              "      border-color: transparent;\n",
              "      border-right-color: var(--fill-color);\n",
              "      border-bottom-color: var(--fill-color);\n",
              "    }\n",
              "    90% {\n",
              "      border-color: transparent;\n",
              "      border-bottom-color: var(--fill-color);\n",
              "    }\n",
              "  }\n",
              "</style>\n",
              "\n",
              "  <script>\n",
              "    async function quickchart(key) {\n",
              "      const quickchartButtonEl =\n",
              "        document.querySelector('#' + key + ' button');\n",
              "      quickchartButtonEl.disabled = true;  // To prevent multiple clicks.\n",
              "      quickchartButtonEl.classList.add('colab-df-spinner');\n",
              "      try {\n",
              "        const charts = await google.colab.kernel.invokeFunction(\n",
              "            'suggestCharts', [key], {});\n",
              "      } catch (error) {\n",
              "        console.error('Error during call to suggestCharts:', error);\n",
              "      }\n",
              "      quickchartButtonEl.classList.remove('colab-df-spinner');\n",
              "      quickchartButtonEl.classList.add('colab-df-quickchart-complete');\n",
              "    }\n",
              "    (() => {\n",
              "      let quickchartButtonEl =\n",
              "        document.querySelector('#df-ee02ea4f-bb6f-4e53-b68f-ab9bfea7fbe2 button');\n",
              "      quickchartButtonEl.style.display =\n",
              "        google.colab.kernel.accessAllowed ? 'block' : 'none';\n",
              "    })();\n",
              "  </script>\n",
              "</div>\n",
              "\n",
              "    </div>\n",
              "  </div>\n"
            ],
            "application/vnd.google.colaboratory.intrinsic+json": {
              "type": "dataframe",
              "variable_name": "data"
            }
          },
          "metadata": {},
          "execution_count": 32
        }
      ]
    },
    {
      "cell_type": "code",
      "source": [
        "#I want mine in an array because of the mathematical operations involved pandas data fram does not allow us to do that\n",
        "data = np.array(data)"
      ],
      "metadata": {
        "id": "yZwKm7Zz9I9j"
      },
      "execution_count": 33,
      "outputs": []
    },
    {
      "cell_type": "code",
      "source": [
        "#lets split our data into dev and train so we have a chunk of data aside to test our data on and then deploy our model on to get actual predictions\n",
        "#this is so that our model does not make the error of over fitting that is making it so that our model is only accurate for the data it was trained on\n",
        "\n",
        "#m and n, rows(examples) and columns(pixels) respectively\n",
        "m, n = data.shape\n",
        "#print(m)\n",
        "#print(n)\n",
        "#shuffling before splitting\n",
        "np.random.shuffle(data)\n",
        "\n",
        "#setting aside the first 1000 entries as training data\n",
        "data_dev = data[0:1000].T\n",
        "#m and n, rows(pixels) and columns(examples) respectively\n",
        "#print(m)\n",
        "#print(n)\n",
        "label_dev = data_dev[0] #the actual number we want to predict, we know it in our training data because we are training lol, wont have this in the test\n",
        "pixels_dev = data_dev[1:n]\n",
        "pixels_dev = pixels_dev / 255\n",
        "\n",
        "#setting aside the rest of the entries as test data\n",
        "data_train = data[1000:m].T\n",
        "\n",
        "\n",
        "label_train = data_train[0]\n",
        "pixels_train = data_train[1:n]\n",
        "pixels_train = pixels_train / 255\n",
        "_,m_train = pixels_train.shape\n"
      ],
      "metadata": {
        "id": "KBH9Wxei9eEm"
      },
      "execution_count": 60,
      "outputs": []
    },
    {
      "cell_type": "code",
      "source": [
        "label_train"
      ],
      "metadata": {
        "colab": {
          "base_uri": "https://localhost:8080/"
        },
        "id": "It6XuUED0mfZ",
        "outputId": "f253edf8-30cf-494d-b205-1393c47869ae"
      },
      "execution_count": 61,
      "outputs": [
        {
          "output_type": "execute_result",
          "data": {
            "text/plain": [
              "array([2, 1, 2, ..., 2, 2, 5])"
            ]
          },
          "metadata": {},
          "execution_count": 61
        }
      ]
    },
    {
      "cell_type": "code",
      "source": [
        "#lets inititalize all our paramenter, W1,W2, b1,b2 because we need to start with values that we will optimize\n",
        "def initialize_parameters():\n",
        "  w1 = np.random.rand(10,784) - 0.5 #the range corresponds to the matrices see readme file for the math\n",
        "  b1 = np.random.randn(10,1) - 0.5\n",
        "  w2 = np.random.randn(10,10) -0.5\n",
        "  b2 = np.random.randn(10,1) -0.5\n",
        "  return w1, b1, w2, b2\n",
        "\n",
        "def RelU(z):\n",
        "  #our activation func for a1\n",
        "  return np.maximum(z, 0) #goes thru each elem in Z and checks if Z is greater than 0 then retruns Z else returns 0\n",
        "\n",
        "def softMax(z):\n",
        "   #each element is divided by the sum computed below /\n",
        "   # preserves the amount of columns and collapses all rows by summing them so we can divide\n",
        "#begin stage 1\n",
        "  return (np.exp(z) / sum(np.exp(z)))\n",
        "\n",
        "def forward_propogation(w1, b1, w2, b2, x):\n",
        "  #lets calcluate z1 first\n",
        "  z1 = w1.dot(x) + b1 # again see read me for math and follow thru\n",
        "  a1 = RelU(z1)\n",
        "  z2 = w2.dot(a1) + b2\n",
        "  a2 = softMax(z2)\n",
        "  return z1, a1, z2, a2\n",
        "\n",
        "def one_hot(y):\n",
        "  one_hot_Y = np.zeros((y.size, y.max() +1)) #creating another matric, where Y.size is the number of examples we have\n",
        "  # where Y.max() +1 is 10 which the exact order of the matrix we require again see math first before code\n",
        "  one_hot_Y[np.arange(y.size), y] = 1\n",
        "  #this is what were doing here, were asking to go to the row (which we access\n",
        "  # using arrays by np.arange() and the specific column Y (our labels) and set it to 1)\n",
        "  one_hot_Y = one_hot_Y.T # we want to flip it because previouly each row is an example but we want eaach colums to be an example\n",
        "  return one_hot_Y\n",
        "\n",
        "  #func to het the derucative\n",
        "def deriv_RelU(z):\n",
        "  return z > 0\n",
        "\n",
        "def backward_propogation(z1, a1, z2, a2, w1, w2, x, y):\n",
        "  one_hot_Y = one_hot(y)\n",
        "  dz2 = a2 - one_hot_Y\n",
        "  dw2 = 1 / m * dz2.dot(a1.T)\n",
        "  db2  = 1 / m * np.sum(dz2)\n",
        "  dz1 = w2.T.dot(dz2) * deriv_RelU(z1)\n",
        "  dw1 = 1 / m * dz1.dot(x.T)\n",
        "  db1 = 1 / m * np.sum(dz1)\n",
        "  return dw1, db1, dw2, db2\n",
        "\n",
        "def  update_parameters(w1, b1, w2, b2, dw1, db1, dw2, db2, gamma):\n",
        "  w1 = w1 - gamma * dw1\n",
        "  w2 = w2 - gamma * dw2\n",
        "  b1 = b1 - gamma * db1\n",
        "  b2 = b2 - gamma * db2\n",
        "\n",
        "  return w1, b1, w2, b2\n",
        "\n",
        "\n",
        "\n",
        "\n"
      ],
      "metadata": {
        "id": "goPqps_O-O0F"
      },
      "execution_count": 62,
      "outputs": []
    },
    {
      "cell_type": "code",
      "source": [
        "def get_predictions(a2):\n",
        "  return np.argmax(a2, 0)\n",
        "\n",
        "def get_accuracy(predictions, y):\n",
        "  print(predictions, y)\n",
        "  return np.sum(predictions == y) / y.size\n",
        "\n",
        "\n",
        "def gradient_descent(x, y, gamma, iterations):\n",
        "  w1, b1, w2, b2 = initialize_parameters()\n",
        "  for i in range(iterations):\n",
        "    z1, a1, z2, a2 = forward_propogation(w1, b1, w2, b2, x)\n",
        "    dw1, db1, dw2, db2 = backward_propogation(z1, a1, z2, a2, w1, w2, x, y)\n",
        "    w1, b1, w2, b2 = update_parameters(w1, b1, w2, b2, dw1, db1, dw2, db2, gamma)\n",
        "    if i % 20 == 0: # every 10th iteration\n",
        "      print(\"Iteration: \", i)\n",
        "      predictions = get_predictions(a2)\n",
        "      print(\"Accuracy: \", get_accuracy(predictions, y))\n",
        "  return w1, b1, w2, b2\n"
      ],
      "metadata": {
        "id": "wFz2OyHKp6g6"
      },
      "execution_count": 73,
      "outputs": []
    },
    {
      "cell_type": "code",
      "source": [
        "w1, b1, w2, b2 = gradient_descent(pixels_train, label_train, 0.1, 1000) #1000 iterations and learning rate 0.1"
      ],
      "metadata": {
        "colab": {
          "base_uri": "https://localhost:8080/"
        },
        "id": "VA-ea4ZUsERB",
        "outputId": "32c12553-4835-4610-ccdc-e178b84bc672"
      },
      "execution_count": 74,
      "outputs": [
        {
          "output_type": "stream",
          "name": "stdout",
          "text": [
            "Iteration:  0\n",
            "[7 4 0 ... 0 0 0] [2 1 2 ... 2 2 5]\n",
            "Accuracy:  0.09404878048780488\n",
            "Iteration:  20\n",
            "[7 4 6 ... 4 6 5] [2 1 2 ... 2 2 5]\n",
            "Accuracy:  0.1945609756097561\n",
            "Iteration:  40\n",
            "[7 1 6 ... 4 6 5] [2 1 2 ... 2 2 5]\n",
            "Accuracy:  0.30653658536585365\n",
            "Iteration:  60\n",
            "[6 1 6 ... 6 6 0] [2 1 2 ... 2 2 5]\n",
            "Accuracy:  0.4157073170731707\n",
            "Iteration:  80\n",
            "[6 1 6 ... 6 6 0] [2 1 2 ... 2 2 5]\n",
            "Accuracy:  0.49390243902439024\n",
            "Iteration:  100\n",
            "[6 1 6 ... 6 6 0] [2 1 2 ... 2 2 5]\n",
            "Accuracy:  0.5430975609756098\n",
            "Iteration:  120\n",
            "[6 1 6 ... 6 2 0] [2 1 2 ... 2 2 5]\n",
            "Accuracy:  0.5776585365853658\n",
            "Iteration:  140\n",
            "[6 1 6 ... 6 2 0] [2 1 2 ... 2 2 5]\n",
            "Accuracy:  0.6050243902439024\n",
            "Iteration:  160\n",
            "[6 1 6 ... 6 2 0] [2 1 2 ... 2 2 5]\n",
            "Accuracy:  0.6329024390243903\n",
            "Iteration:  180\n",
            "[6 1 6 ... 6 2 0] [2 1 2 ... 2 2 5]\n",
            "Accuracy:  0.6574146341463415\n",
            "Iteration:  200\n",
            "[6 1 2 ... 6 2 0] [2 1 2 ... 2 2 5]\n",
            "Accuracy:  0.6801463414634147\n",
            "Iteration:  220\n",
            "[6 1 2 ... 6 2 0] [2 1 2 ... 2 2 5]\n",
            "Accuracy:  0.6971951219512195\n",
            "Iteration:  240\n",
            "[6 1 2 ... 6 2 0] [2 1 2 ... 2 2 5]\n",
            "Accuracy:  0.7122682926829268\n",
            "Iteration:  260\n",
            "[6 1 2 ... 6 2 3] [2 1 2 ... 2 2 5]\n",
            "Accuracy:  0.7239756097560975\n",
            "Iteration:  280\n",
            "[2 1 2 ... 6 2 3] [2 1 2 ... 2 2 5]\n",
            "Accuracy:  0.7358536585365854\n",
            "Iteration:  300\n",
            "[2 1 2 ... 6 2 3] [2 1 2 ... 2 2 5]\n",
            "Accuracy:  0.7449268292682927\n",
            "Iteration:  320\n",
            "[2 1 2 ... 6 2 3] [2 1 2 ... 2 2 5]\n",
            "Accuracy:  0.7528048780487805\n",
            "Iteration:  340\n",
            "[2 1 2 ... 6 2 3] [2 1 2 ... 2 2 5]\n",
            "Accuracy:  0.7613170731707317\n",
            "Iteration:  360\n",
            "[2 1 2 ... 6 2 3] [2 1 2 ... 2 2 5]\n",
            "Accuracy:  0.7689024390243903\n",
            "Iteration:  380\n",
            "[2 1 2 ... 6 2 3] [2 1 2 ... 2 2 5]\n",
            "Accuracy:  0.7750243902439025\n",
            "Iteration:  400\n",
            "[2 1 2 ... 6 2 3] [2 1 2 ... 2 2 5]\n",
            "Accuracy:  0.7802439024390244\n",
            "Iteration:  420\n",
            "[2 1 2 ... 6 2 3] [2 1 2 ... 2 2 5]\n",
            "Accuracy:  0.7857804878048781\n",
            "Iteration:  440\n",
            "[2 1 2 ... 6 2 3] [2 1 2 ... 2 2 5]\n",
            "Accuracy:  0.7903658536585366\n",
            "Iteration:  460\n",
            "[2 1 2 ... 6 2 3] [2 1 2 ... 2 2 5]\n",
            "Accuracy:  0.7949268292682927\n",
            "Iteration:  480\n",
            "[2 1 2 ... 6 2 3] [2 1 2 ... 2 2 5]\n",
            "Accuracy:  0.7984634146341464\n",
            "Iteration:  500\n",
            "[2 1 2 ... 6 2 2] [2 1 2 ... 2 2 5]\n",
            "Accuracy:  0.8019268292682927\n",
            "Iteration:  520\n",
            "[2 1 2 ... 6 2 2] [2 1 2 ... 2 2 5]\n",
            "Accuracy:  0.8055121951219513\n",
            "Iteration:  540\n",
            "[2 1 2 ... 6 2 2] [2 1 2 ... 2 2 5]\n",
            "Accuracy:  0.8089024390243903\n",
            "Iteration:  560\n",
            "[2 1 2 ... 6 2 2] [2 1 2 ... 2 2 5]\n",
            "Accuracy:  0.8121707317073171\n",
            "Iteration:  580\n",
            "[2 1 2 ... 6 2 2] [2 1 2 ... 2 2 5]\n",
            "Accuracy:  0.8158048780487804\n",
            "Iteration:  600\n",
            "[2 1 2 ... 6 2 2] [2 1 2 ... 2 2 5]\n",
            "Accuracy:  0.8185853658536585\n",
            "Iteration:  620\n",
            "[2 1 2 ... 6 2 2] [2 1 2 ... 2 2 5]\n",
            "Accuracy:  0.8218292682926829\n",
            "Iteration:  640\n",
            "[2 1 2 ... 6 2 2] [2 1 2 ... 2 2 5]\n",
            "Accuracy:  0.8247073170731707\n",
            "Iteration:  660\n",
            "[2 1 2 ... 6 2 2] [2 1 2 ... 2 2 5]\n",
            "Accuracy:  0.8274634146341463\n",
            "Iteration:  680\n",
            "[2 1 2 ... 6 2 3] [2 1 2 ... 2 2 5]\n",
            "Accuracy:  0.8296097560975609\n",
            "Iteration:  700\n",
            "[2 1 2 ... 6 2 3] [2 1 2 ... 2 2 5]\n",
            "Accuracy:  0.8318536585365853\n",
            "Iteration:  720\n",
            "[2 1 2 ... 6 2 3] [2 1 2 ... 2 2 5]\n",
            "Accuracy:  0.8339512195121951\n",
            "Iteration:  740\n",
            "[2 1 2 ... 6 2 3] [2 1 2 ... 2 2 5]\n",
            "Accuracy:  0.8359268292682926\n",
            "Iteration:  760\n",
            "[2 1 2 ... 6 2 3] [2 1 2 ... 2 2 5]\n",
            "Accuracy:  0.8377073170731707\n",
            "Iteration:  780\n",
            "[2 1 2 ... 6 2 3] [2 1 2 ... 2 2 5]\n",
            "Accuracy:  0.8396341463414634\n",
            "Iteration:  800\n",
            "[2 1 2 ... 6 2 3] [2 1 2 ... 2 2 5]\n",
            "Accuracy:  0.8414634146341463\n",
            "Iteration:  820\n",
            "[2 1 2 ... 6 2 3] [2 1 2 ... 2 2 5]\n",
            "Accuracy:  0.8429756097560975\n",
            "Iteration:  840\n",
            "[2 1 2 ... 6 2 3] [2 1 2 ... 2 2 5]\n",
            "Accuracy:  0.8445121951219512\n",
            "Iteration:  860\n",
            "[2 1 2 ... 6 2 3] [2 1 2 ... 2 2 5]\n",
            "Accuracy:  0.8454390243902439\n",
            "Iteration:  880\n",
            "[2 1 2 ... 6 2 3] [2 1 2 ... 2 2 5]\n",
            "Accuracy:  0.8470487804878049\n",
            "Iteration:  900\n",
            "[2 1 2 ... 6 2 3] [2 1 2 ... 2 2 5]\n",
            "Accuracy:  0.8484146341463414\n",
            "Iteration:  920\n",
            "[2 1 2 ... 6 2 3] [2 1 2 ... 2 2 5]\n",
            "Accuracy:  0.8495853658536585\n",
            "Iteration:  940\n",
            "[2 1 2 ... 6 2 3] [2 1 2 ... 2 2 5]\n",
            "Accuracy:  0.8507073170731707\n",
            "Iteration:  960\n",
            "[2 1 2 ... 6 2 3] [2 1 2 ... 2 2 5]\n",
            "Accuracy:  0.8520487804878049\n",
            "Iteration:  980\n",
            "[2 1 2 ... 6 2 3] [2 1 2 ... 2 2 5]\n",
            "Accuracy:  0.8533170731707317\n"
          ]
        }
      ]
    },
    {
      "cell_type": "markdown",
      "source": [
        "85% accuracy"
      ],
      "metadata": {
        "id": "niVLzVKM2-1z"
      }
    },
    {
      "cell_type": "code",
      "source": [
        "def make_predictions(x, w1, b1, w2, b2):\n",
        "    _, _, _, a2 = forward_propogation(w1, b1, w2, b2, x)\n",
        "    predictions = get_predictions(a2)\n",
        "    return predictions\n",
        "\n",
        "def test_prediction(index, w1, b1, w2, b2):\n",
        "    current_image = pixels_train[:, index, None]\n",
        "    prediction = make_predictions(pixels_train[:, index, None], w1, b1, w2, b2)\n",
        "    label = label_train[index]\n",
        "    print(\"Prediction: \", prediction)\n",
        "    print(\"Label: \", label)\n",
        "\n",
        "    current_image = current_image.reshape((28, 28)) * 255\n",
        "    plot.gray()\n",
        "    plot.imshow(current_image, interpolation='nearest')\n",
        "    plot.show()"
      ],
      "metadata": {
        "id": "yY1jCoRIms_f"
      },
      "execution_count": 80,
      "outputs": []
    },
    {
      "cell_type": "code",
      "source": [
        "test_prediction(0, w1, b1, w2, b2)\n"
      ],
      "metadata": {
        "colab": {
          "base_uri": "https://localhost:8080/",
          "height": 465
        },
        "id": "qRf0YF6k5HVE",
        "outputId": "035067f1-4c49-455c-b291-c21bef15367f"
      },
      "execution_count": 81,
      "outputs": [
        {
          "output_type": "stream",
          "name": "stdout",
          "text": [
            "Prediction:  [2]\n",
            "Label:  2\n"
          ]
        },
        {
          "output_type": "display_data",
          "data": {
            "text/plain": [
              "<Figure size 640x480 with 1 Axes>"
            ],
            "image/png": "[encoded data removed]"
          },
          "metadata": {}
        }
      ]
    },
    {
      "cell_type": "code",
      "source": [
        "test_prediction(49, w1, b1, w2, b2)"
      ],
      "metadata": {
        "colab": {
          "base_uri": "https://localhost:8080/",
          "height": 465
        },
        "id": "F06UZr2l5OjK",
        "outputId": "50a5c50e-3018-4239-a6ea-4e7d30242e00"
      },
      "execution_count": 83,
      "outputs": [
        {
          "output_type": "stream",
          "name": "stdout",
          "text": [
            "Prediction:  [5]\n",
            "Label:  5\n"
          ]
        },
        {
          "output_type": "display_data",
          "data": {
            "text/plain": [
              "<Figure size 640x480 with 1 Axes>"
            ],
            "image/png": "[encoded data removed]"
          },
          "metadata": {}
        }
      ]
    },
    {
      "cell_type": "code",
      "source": [
        "test_prediction(100, w1, b1, w2, b2)"
      ],
      "metadata": {
        "colab": {
          "base_uri": "https://localhost:8080/",
          "height": 465
        },
        "id": "7Iyg5KlQ5TZk",
        "outputId": "3938c43a-e429-4235-8011-dd0d3a256600"
      },
      "execution_count": 84,
      "outputs": [
        {
          "output_type": "stream",
          "name": "stdout",
          "text": [
            "Prediction:  [3]\n",
            "Label:  3\n"
          ]
        },
        {
          "output_type": "display_data",
          "data": {
            "text/plain": [
              "<Figure size 640x480 with 1 Axes>"
            ],
            "image/png": "[encoded data removed]"
          },
          "metadata": {}
        }
      ]
    },
    {
      "cell_type": "code",
      "source": [
        "test_prediction(500, w1, b1, w2, b2)"
      ],
      "metadata": {
        "colab": {
          "base_uri": "https://localhost:8080/",
          "height": 465
        },
        "id": "0NnXKWsj5VUT",
        "outputId": "7d542a57-e2e1-4a2f-d70f-b2b1b2cbb6a0"
      },
      "execution_count": 85,
      "outputs": [
        {
          "output_type": "stream",
          "name": "stdout",
          "text": [
            "Prediction:  [4]\n",
            "Label:  9\n"
          ]
        },
        {
          "output_type": "display_data",
          "data": {
            "text/plain": [
              "<Figure size 640x480 with 1 Axes>"
            ],
            "image/png": "[encoded data removed]"
          },
          "metadata": {}
        }
      ]
    },
    {
      "cell_type": "code",
      "source": [
        "test_prediction(3, w1, b1, w2, b2)"
      ],
      "metadata": {
        "colab": {
          "base_uri": "https://localhost:8080/",
          "height": 465
        },
        "id": "ezmZOlzb5X85",
        "outputId": "5644c50c-77fb-495e-db52-f6091e10fb1b"
      },
      "execution_count": 86,
      "outputs": [
        {
          "output_type": "stream",
          "name": "stdout",
          "text": [
            "Prediction:  [1]\n",
            "Label:  1\n"
          ]
        },
        {
          "output_type": "display_data",
          "data": {
            "text/plain": [
              "<Figure size 640x480 with 1 Axes>"
            ],
            "image/png": "[encoded data removed]"
          },
          "metadata": {}
        }
      ]
    },
    {
      "cell_type": "code",
      "source": [
        "#lets deploy it on actual data\n",
        "dev_predictions = make_predictions(pixels_dev, w1, b1, w2, b2)\n",
        "get_accuracy(dev_predictions, label_dev)"
      ],
      "metadata": {
        "colab": {
          "base_uri": "https://localhost:8080/"
        },
        "id": "3xkkrdZd5css",
        "outputId": "ca96a52e-28d4-4310-e470-857b7f7a626b"
      },
      "execution_count": 96,
      "outputs": [
        {
          "output_type": "stream",
          "name": "stdout",
          "text": [
            "[7 3 0 8 6 6 2 4 2 1 6 1 2 6 0 7 6 6 5 1 0 2 7 2 5 5 4 1 6 7 5 3 4 2 0 2 1\n",
            " 0 5 0 5 7 6 2 7 2 0 1 2 0 9 6 8 2 6 7 7 0 0 6 1 4 3 1 3 1 4 8 3 8 3 7 4 6\n",
            " 7 2 4 1 9 9 0 1 2 5 2 7 3 1 0 0 6 2 2 0 7 3 5 3 3 5 0 7 7 5 5 8 5 1 1 6 6\n",
            " 2 2 4 2 4 1 4 6 6 6 4 7 3 1 3 9 4 9 1 2 1 4 2 7 8 9 3 2 0 3 5 2 9 1 1 5 5\n",
            " 3 6 6 5 0 5 7 8 3 9 2 0 8 0 5 6 6 9 5 9 0 4 2 9 9 4 0 9 8 8 9 8 2 9 9 7 2\n",
            " 5 4 6 8 8 7 9 6 2 4 1 6 9 6 5 3 4 6 5 4 8 4 4 1 8 1 2 3 1 5 3 5 6 9 3 8 1\n",
            " 4 5 8 6 1 7 3 7 6 4 0 6 8 8 0 7 8 8 3 0 0 9 6 0 7 9 1 2 2 0 7 6 1 4 2 6 8\n",
            " 7 7 4 8 9 7 2 8 1 3 5 6 5 5 1 7 0 2 5 8 3 8 7 0 4 6 0 5 3 1 9 1 8 5 4 9 2\n",
            " 4 5 6 8 6 7 7 7 8 8 2 6 3 3 1 3 3 1 0 9 1 5 3 3 2 8 4 8 0 7 4 6 1 6 1 1 3\n",
            " 3 8 4 5 5 2 8 1 7 1 8 6 9 7 2 0 6 9 6 9 0 4 5 7 5 4 5 2 2 1 4 2 9 9 8 3 3\n",
            " 9 7 6 7 7 0 6 0 5 3 7 6 7 8 0 7 6 4 6 2 9 0 3 1 4 8 5 0 5 7 8 7 7 4 2 6 7\n",
            " 3 7 1 1 2 4 8 2 8 2 6 6 8 2 1 6 9 8 3 0 1 5 8 1 3 5 8 1 3 5 8 3 9 7 0 9 3\n",
            " 2 9 3 7 4 1 7 0 1 5 9 1 8 8 3 8 8 8 3 1 2 1 8 6 5 7 3 7 8 1 9 2 8 4 1 5 9\n",
            " 1 6 1 9 5 4 1 0 5 9 7 5 6 7 3 1 6 5 7 6 6 2 2 1 7 9 0 6 8 8 5 2 2 1 0 0 6\n",
            " 8 9 2 1 4 6 5 6 1 5 5 3 4 6 2 0 7 6 2 9 8 8 7 1 2 8 2 1 3 4 3 6 3 1 7 4 5\n",
            " 4 7 3 1 9 7 6 9 8 7 2 1 1 4 6 4 8 2 7 1 9 1 6 0 3 9 4 9 5 5 6 1 1 8 6 1 9\n",
            " 3 1 0 8 2 2 1 9 2 9 3 7 8 8 9 9 5 1 4 1 8 8 1 9 0 6 0 1 3 0 0 4 4 0 0 9 7\n",
            " 9 5 9 2 0 0 2 9 5 5 1 4 4 2 5 8 0 3 4 6 8 4 6 6 3 1 1 6 1 0 9 8 6 9 3 5 2\n",
            " 9 2 4 3 0 1 1 3 5 3 6 7 4 8 2 4 7 3 0 1 0 4 3 7 9 3 7 4 4 4 5 3 5 1 5 4 6\n",
            " 9 0 8 3 0 4 0 1 6 3 4 7 7 4 7 2 1 8 3 1 7 4 8 1 2 1 7 6 1 4 3 6 5 8 0 5 7\n",
            " 1 0 0 1 7 9 3 7 3 7 3 7 5 3 5 2 3 6 7 1 2 9 9 2 5 3 3 0 8 9 2 6 3 9 5 9 1\n",
            " 7 4 9 3 0 3 3 0 4 5 1 8 5 5 5 2 9 4 1 7 0 7 6 5 7 6 2 1 4 3 4 2 5 6 0 5 0\n",
            " 3 2 7 1 6 9 1 4 1 3 1 2 3 6 5 0 8 5 2 3 5 6 3 3 9 7 9 6 3 8 7 1 2 6 3 0 7\n",
            " 8 5 7 3 3 2 5 1 7 6 4 0 5 8 7 3 8 6 1 9 9 3 4 9 2 2 9 0 8 6 6 2 8 5 7 9 2\n",
            " 3 1 3 8 4 5 1 3 4 4 0 8 3 9 3 1 5 3 0 2 2 3 6 3 3 1 6 9 7 6 9 8 9 3 1 5 3\n",
            " 4 2 3 5 1 8 2 2 2 9 2 8 2 2 3 3 0 0 5 3 0 3 0 2 7 0 3 9 1 4 1 6 4 8 9 3 2\n",
            " 5 0 2 5 2 7 7 1 0 7 7 0 0 2 6 8 2 6 8 7 6 9 6 3 8 7 1 2 1 7 0 4 5 9 2 0 5\n",
            " 6] [7 3 0 8 4 6 2 4 6 1 6 1 2 6 0 7 6 6 5 1 0 2 7 3 5 5 9 1 6 7 5 3 4 3 0 2 8\n",
            " 0 8 2 5 7 6 2 7 2 0 1 2 0 9 8 8 5 6 7 7 0 0 6 1 4 3 1 3 1 4 5 8 8 5 7 4 6\n",
            " 7 3 4 1 7 9 0 1 2 5 2 7 3 1 0 0 6 2 2 0 7 3 5 3 3 5 0 7 7 5 5 8 5 1 1 6 6\n",
            " 2 2 6 2 4 1 4 6 2 6 4 7 2 1 3 9 4 8 1 2 5 4 3 7 6 9 8 2 0 3 5 7 9 1 1 5 5\n",
            " 3 6 6 8 0 3 7 2 3 9 2 0 8 0 1 6 6 9 5 9 0 4 2 9 9 4 0 9 8 8 7 8 2 9 9 7 8\n",
            " 5 4 6 8 8 7 9 8 2 4 1 6 9 6 5 3 4 6 5 4 2 4 4 1 8 1 2 3 1 8 3 8 2 9 3 8 1\n",
            " 4 5 8 6 1 9 3 7 2 4 0 6 8 8 0 7 8 8 5 0 0 4 6 0 7 9 1 3 2 0 7 6 1 4 2 8 5\n",
            " 7 7 4 0 9 7 2 8 1 3 5 6 9 5 1 7 0 2 8 5 3 8 7 0 4 6 0 1 3 1 3 1 8 3 4 9 3\n",
            " 4 5 6 8 6 7 7 7 8 8 2 6 3 3 1 3 3 1 0 9 1 5 2 3 2 8 4 8 0 3 4 6 1 6 1 1 3\n",
            " 3 8 4 5 5 2 8 1 7 1 8 6 7 7 2 0 6 9 6 9 0 4 3 7 5 4 3 2 2 1 8 2 9 9 8 3 3\n",
            " 9 7 6 7 7 0 6 0 3 3 7 6 7 8 0 7 6 4 6 2 9 0 3 1 4 8 5 0 5 7 8 7 7 4 2 6 7\n",
            " 3 7 1 1 2 4 8 2 8 2 6 6 8 2 1 6 7 8 3 0 1 5 8 1 3 5 8 1 3 5 8 8 9 7 0 9 3\n",
            " 2 9 5 7 4 1 7 0 5 5 9 1 8 8 3 8 2 8 3 1 2 5 5 6 8 7 3 7 8 1 9 2 5 4 1 5 9\n",
            " 1 6 1 9 5 4 6 0 5 9 7 5 6 9 3 1 6 5 7 6 6 2 2 1 7 9 0 6 8 8 5 2 8 1 0 0 6\n",
            " 8 4 2 1 4 6 8 6 1 5 3 3 4 5 1 0 7 6 2 9 8 8 7 1 2 8 2 7 3 4 3 6 5 5 3 4 5\n",
            " 4 7 3 1 9 7 6 9 8 7 3 1 1 4 6 4 8 2 7 8 9 8 6 0 3 9 9 9 5 5 6 1 1 8 6 1 9\n",
            " 5 1 0 8 2 2 1 4 2 9 3 7 8 8 9 9 5 1 4 1 2 8 1 8 5 6 0 1 3 0 0 4 4 0 5 9 7\n",
            " 9 8 9 2 0 0 2 4 5 5 1 4 4 1 5 8 0 3 9 6 8 4 6 6 3 1 1 6 1 0 9 4 6 9 3 5 2\n",
            " 9 2 4 3 0 1 1 3 5 3 6 7 4 8 2 4 7 3 3 1 0 4 3 7 9 3 7 4 4 4 5 3 8 1 1 9 6\n",
            " 4 0 8 3 0 4 0 1 6 3 4 7 5 9 7 2 1 8 3 1 7 4 8 1 2 1 7 6 1 4 3 6 8 8 0 5 7\n",
            " 1 0 5 1 7 9 5 7 3 7 3 7 0 3 5 2 3 6 7 1 2 9 5 2 5 3 3 0 8 9 2 6 3 7 5 9 1\n",
            " 7 4 9 3 0 3 3 0 4 5 1 8 7 5 5 2 9 6 1 7 0 7 6 5 7 6 2 1 4 3 4 2 9 6 0 8 0\n",
            " 3 2 7 1 6 9 1 4 1 3 1 2 5 6 0 0 7 5 2 2 8 6 2 3 9 7 7 6 3 8 7 1 0 6 3 0 7\n",
            " 8 5 7 3 3 2 5 1 7 6 4 0 0 8 7 3 3 6 1 9 9 3 4 9 3 2 9 0 8 6 6 3 8 5 7 9 8\n",
            " 3 1 3 8 6 5 1 3 4 6 0 8 3 0 3 1 5 3 0 2 2 3 6 3 3 1 6 9 7 6 9 8 7 3 1 5 3\n",
            " 4 2 3 5 1 8 2 4 2 9 2 8 8 2 3 3 0 0 5 3 0 2 0 2 5 0 3 7 1 4 1 6 4 8 9 3 2\n",
            " 5 0 2 5 0 7 7 1 0 7 7 0 0 2 6 8 2 6 8 7 4 8 6 3 8 7 1 2 1 7 0 4 8 4 2 0 0\n",
            " 6]\n"
          ]
        },
        {
          "output_type": "execute_result",
          "data": {
            "text/plain": [
              "0.862"
            ]
          },
          "metadata": {},
          "execution_count": 96
        }
      ]
    },
    {
      "cell_type": "markdown",
      "source": [
        "86% accuracy!"
      ],
      "metadata": {
        "id": "7WDAr7RM5mfT"
      }
    },
    {
      "cell_type": "code",
      "source": [
        "#data = pd.read_csv('/content/test.csv')"
      ],
      "metadata": {
        "id": "T74fnxBb5wbr"
      },
      "execution_count": 92,
      "outputs": []
    },
    {
      "cell_type": "code",
      "source": [
        "#test_data = np.array(test_data)"
      ],
      "metadata": {
        "id": "4Q76xSYU5_5O"
      },
      "execution_count": 93,
      "outputs": []
    },
    {
      "cell_type": "code",
      "source": [],
      "metadata": {
        "id": "-XUmT1An6A41"
      },
      "execution_count": null,
      "outputs": []
    },
    {
      "cell_type": "code",
      "source": [
        "#dev_predictions = make_predictions(data, w1, b1, w2, b2)\n"
      ],
      "metadata": {
        "colab": {
          "base_uri": "https://localhost:8080/",
          "height": 287
        },
        "id": "qWERjlkW5sYy",
        "outputId": "04f075c5-09aa-4f86-a59b-47b78bad2def"
      },
      "execution_count": 94,
      "outputs": [
        {
          "output_type": "error",
          "ename": "ValueError",
          "evalue": "shapes (10,784) and (28000,784) not aligned: 784 (dim 1) != 28000 (dim 0)",
          "traceback": [
            "\u001b[0;31m---------------------------------------------------------------------------\u001b[0m",
            "\u001b[0;31mValueError\u001b[0m                                Traceback (most recent call last)",
            "\u001b[0;32m<ipython-input-94-eb8e42ee87b5>\u001b[0m in \u001b[0;36m<cell line: 1>\u001b[0;34m()\u001b[0m\n\u001b[0;32m----> 1\u001b[0;31m \u001b[0mdev_predictions\u001b[0m \u001b[0;34m=\u001b[0m \u001b[0mmake_predictions\u001b[0m\u001b[0;34m(\u001b[0m\u001b[0mdata\u001b[0m\u001b[0;34m,\u001b[0m \u001b[0mw1\u001b[0m\u001b[0;34m,\u001b[0m \u001b[0mb1\u001b[0m\u001b[0;34m,\u001b[0m \u001b[0mw2\u001b[0m\u001b[0;34m,\u001b[0m \u001b[0mb2\u001b[0m\u001b[0;34m)\u001b[0m\u001b[0;34m\u001b[0m\u001b[0;34m\u001b[0m\u001b[0m\n\u001b[0m",
            "\u001b[0;32m<ipython-input-80-7064dfd2c02d>\u001b[0m in \u001b[0;36mmake_predictions\u001b[0;34m(x, w1, b1, w2, b2)\u001b[0m\n\u001b[1;32m      1\u001b[0m \u001b[0;32mdef\u001b[0m \u001b[0mmake_predictions\u001b[0m\u001b[0;34m(\u001b[0m\u001b[0mx\u001b[0m\u001b[0;34m,\u001b[0m \u001b[0mw1\u001b[0m\u001b[0;34m,\u001b[0m \u001b[0mb1\u001b[0m\u001b[0;34m,\u001b[0m \u001b[0mw2\u001b[0m\u001b[0;34m,\u001b[0m \u001b[0mb2\u001b[0m\u001b[0;34m)\u001b[0m\u001b[0;34m:\u001b[0m\u001b[0;34m\u001b[0m\u001b[0;34m\u001b[0m\u001b[0m\n\u001b[0;32m----> 2\u001b[0;31m     \u001b[0m_\u001b[0m\u001b[0;34m,\u001b[0m \u001b[0m_\u001b[0m\u001b[0;34m,\u001b[0m \u001b[0m_\u001b[0m\u001b[0;34m,\u001b[0m \u001b[0ma2\u001b[0m \u001b[0;34m=\u001b[0m \u001b[0mforward_propogation\u001b[0m\u001b[0;34m(\u001b[0m\u001b[0mw1\u001b[0m\u001b[0;34m,\u001b[0m \u001b[0mb1\u001b[0m\u001b[0;34m,\u001b[0m \u001b[0mw2\u001b[0m\u001b[0;34m,\u001b[0m \u001b[0mb2\u001b[0m\u001b[0;34m,\u001b[0m \u001b[0mx\u001b[0m\u001b[0;34m)\u001b[0m\u001b[0;34m\u001b[0m\u001b[0;34m\u001b[0m\u001b[0m\n\u001b[0m\u001b[1;32m      3\u001b[0m     \u001b[0mpredictions\u001b[0m \u001b[0;34m=\u001b[0m \u001b[0mget_predictions\u001b[0m\u001b[0;34m(\u001b[0m\u001b[0ma2\u001b[0m\u001b[0;34m)\u001b[0m\u001b[0;34m\u001b[0m\u001b[0;34m\u001b[0m\u001b[0m\n\u001b[1;32m      4\u001b[0m     \u001b[0;32mreturn\u001b[0m \u001b[0mpredictions\u001b[0m\u001b[0;34m\u001b[0m\u001b[0;34m\u001b[0m\u001b[0m\n\u001b[1;32m      5\u001b[0m \u001b[0;34m\u001b[0m\u001b[0m\n",
            "\u001b[0;32m<ipython-input-62-d9babdd467de>\u001b[0m in \u001b[0;36mforward_propogation\u001b[0;34m(w1, b1, w2, b2, x)\u001b[0m\n\u001b[1;32m     19\u001b[0m \u001b[0;32mdef\u001b[0m \u001b[0mforward_propogation\u001b[0m\u001b[0;34m(\u001b[0m\u001b[0mw1\u001b[0m\u001b[0;34m,\u001b[0m \u001b[0mb1\u001b[0m\u001b[0;34m,\u001b[0m \u001b[0mw2\u001b[0m\u001b[0;34m,\u001b[0m \u001b[0mb2\u001b[0m\u001b[0;34m,\u001b[0m \u001b[0mx\u001b[0m\u001b[0;34m)\u001b[0m\u001b[0;34m:\u001b[0m\u001b[0;34m\u001b[0m\u001b[0;34m\u001b[0m\u001b[0m\n\u001b[1;32m     20\u001b[0m   \u001b[0;31m#lets calcluate z1 first\u001b[0m\u001b[0;34m\u001b[0m\u001b[0;34m\u001b[0m\u001b[0m\n\u001b[0;32m---> 21\u001b[0;31m   \u001b[0mz1\u001b[0m \u001b[0;34m=\u001b[0m \u001b[0mw1\u001b[0m\u001b[0;34m.\u001b[0m\u001b[0mdot\u001b[0m\u001b[0;34m(\u001b[0m\u001b[0mx\u001b[0m\u001b[0;34m)\u001b[0m \u001b[0;34m+\u001b[0m \u001b[0mb1\u001b[0m \u001b[0;31m# again see read me for math and follow thru\u001b[0m\u001b[0;34m\u001b[0m\u001b[0;34m\u001b[0m\u001b[0m\n\u001b[0m\u001b[1;32m     22\u001b[0m   \u001b[0ma1\u001b[0m \u001b[0;34m=\u001b[0m \u001b[0mRelU\u001b[0m\u001b[0;34m(\u001b[0m\u001b[0mz1\u001b[0m\u001b[0;34m)\u001b[0m\u001b[0;34m\u001b[0m\u001b[0;34m\u001b[0m\u001b[0m\n\u001b[1;32m     23\u001b[0m   \u001b[0mz2\u001b[0m \u001b[0;34m=\u001b[0m \u001b[0mw2\u001b[0m\u001b[0;34m.\u001b[0m\u001b[0mdot\u001b[0m\u001b[0;34m(\u001b[0m\u001b[0ma1\u001b[0m\u001b[0;34m)\u001b[0m \u001b[0;34m+\u001b[0m \u001b[0mb2\u001b[0m\u001b[0;34m\u001b[0m\u001b[0;34m\u001b[0m\u001b[0m\n",
            "\u001b[0;31mValueError\u001b[0m: shapes (10,784) and (28000,784) not aligned: 784 (dim 1) != 28000 (dim 0)"
          ]
        }
      ]
    }
  ]
}